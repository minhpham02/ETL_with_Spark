{
 "cells": [
  {
   "cell_type": "code",
   "execution_count": 1,
   "metadata": {},
   "outputs": [],
   "source": [
    "from pyspark.sql import SparkSession"
   ]
  },
  {
   "cell_type": "code",
   "execution_count": 2,
   "metadata": {},
   "outputs": [],
   "source": [
    "spark = SparkSession.builder.appName(\"ETL\")\\\n",
    "        .config('spark.jars.packages', 'org.postgresql:postgresql:42.6.2') \\\n",
    "        .getOrCreate()\n",
    "sqlContext = SparkSession(spark)\n",
    "#Dont Show warning only error\n",
    "spark.sparkContext.setLogLevel(\"ERROR\")"
   ]
  },
  {
   "cell_type": "code",
   "execution_count": 3,
   "metadata": {},
   "outputs": [],
   "source": [
    "user_df = spark.read \\\n",
    "    .format(\"jdbc\") \\\n",
    "    .option(\"url\", \"jdbc:postgresql://103.245.236.247:5432/e-commerce\") \\\n",
    "    .option(\"driver\", \"org.postgresql.Driver\")\\\n",
    "    .option(\"user\", \"traianthai\") \\\n",
    "    .option(\"password\", \"123123\") \\\n",
    "    .option(\"dbtable\", \"public.\\\"user\\\"\") \\\n",
    "    .load()\n"
   ]
  },
  {
   "cell_type": "code",
   "execution_count": 4,
   "metadata": {},
   "outputs": [
    {
     "name": "stdout",
     "output_type": "stream",
     "text": [
      "+---+--------------------+--------------------+---------+--------------------+----------+------------+--------+------+-------------------+-------------------+-----+------+--------------------+-----------------+---------+-------------+\n",
      "| id|           createdAt|           updatedAt|deletedAt|               email|  password|   firstName|lastName|gender|        dateOfBirth|              phone|state|roleId|              avatar|         nickName|addressId|    numberCMT|\n",
      "+---+--------------------+--------------------+---------+--------------------+----------+------------+--------+------+-------------------+-------------------+-----+------+--------------------+-----------------+---------+-------------+\n",
      "|200|2024-05-14 20:29:...|2024-05-14 20:29:...|     NULL|anh111.cty@gmail.com|    123123|Trần Văn Đức|     Anh|   Nam|1965-09-01 08:00:00|           18375156|    1|     1|https://cdn.thoit...|        thao112CT|     NULL|2312137047291|\n",
      "|150|2024-05-14 20:29:...|2024-05-14 20:29:...|     NULL|manh61.cty@gmail.com|    123123|  Nguyễn Văn|    Mạnh|   Nam|1955-03-15 08:00:00|           78778639|    1|     1|https://img.lovep...|           my62CT|     NULL|9390204573928|\n",
      "|  3|2024-05-13 22:34:...|2024-05-13 22:34:...|     NULL|  admin@ecommerce.io|    123123|       admin|   admin|  Khác|               NULL|               NULL|    1|     0|                NULL|             NULL|     NULL|         NULL|\n",
      "|  2|2024-04-28 08:38:...|2024-04-28 08:38:...|     NULL|traianthai@gmail.com|    string|        shop|    test|  Khác|               NULL|               NULL|    1|     1|                NULL|             NULL|     NULL|         NULL|\n",
      "|  4|2024-05-14 00:02:...|2024-05-14 00:02:...|     NULL|marisacampos@hotm...|F_y%8Kbuye|       Maria|   Smith|   Nam|               NULL| (355)090-3692x8791|    0|     2|http://www.loremp...|     lopezjeffrey|     NULL|         NULL|\n",
      "|  5|2024-05-14 00:02:...|2024-05-14 00:02:...|     NULL|michelleobrien@ya...|+tDSj!ju75|     Charles|   Smith|    Nữ|               NULL|(088)622-6104x48167|    0|     2|https://placehold...|     hannahwright|     NULL|         NULL|\n",
      "|  6|2024-05-14 00:02:...|2024-05-14 00:02:...|     NULL|veronica60@vincen...|pfx5O)AD^1|       Cathy|   Boyer|   Nam|               NULL|        03093376553|    0|     2|https://placehold...|        william50|     NULL|         NULL|\n",
      "|  7|2024-05-14 00:02:...|2024-05-14 00:02:...|     NULL|ramirezgary@yahoo...|p88B1j08%6|   Nathaniel|Mcintyre|   Nam|               NULL|1-313-282-1839x1537|    1|     2|http://www.loremp...|       torresadam|     NULL|         NULL|\n",
      "|  8|2024-05-14 00:02:...|2024-05-14 00:02:...|     NULL|adamsjonathan@agu...|D3kDeuZZ(k|     Abigail|  Howell|   Nam|               NULL|(077)519-4387x33017|    0|     2|https://placehold...|  christinemartin|     NULL|         NULL|\n",
      "|  9|2024-05-14 00:02:...|2024-05-14 00:02:...|     NULL|    ogreen@yahoo.com|KwIEKz8N)1|       Cindy| Sampson|  Khác|               NULL|  328.504.2836x6889|    2|     2|https://placehold...|bensonchristopher|     NULL|         NULL|\n",
      "| 10|2024-05-14 00:02:...|2024-05-14 00:02:...|     NULL|  ashley48@hill.info|$zJ4UrLcW(|        Ruth|    Gray|  Khác|               NULL|      (994)140-1207|    1|     2|http://www.loremp...|          zmiller|     NULL|         NULL|\n",
      "| 11|2024-05-14 00:02:...|2024-05-14 00:02:...|     NULL|alyssacastro@yaho...|)%e3DEHsQO|    Kathleen| Johnson|    Nữ|               NULL|   592.278.9667x258|    1|     2|https://placehold...|   michellehansen|     NULL|         NULL|\n",
      "| 12|2024-05-14 00:02:...|2024-05-14 00:02:...|     NULL|megansimmons@farl...|s1pQ2O+ye^|        Karl|  Robles|  Khác|               NULL|  163.957.8480x7426|    1|     2|https://dummyimag...|   schroederjamie|     NULL|         NULL|\n",
      "| 13|2024-05-14 00:02:...|2024-05-14 00:02:...|     NULL|chamberscesar@yah...|C74DUf!j$3|     Stephen|Cummings|   Nam|               NULL|  (496)680-9295x558|    1|     2|http://www.loremp...|    johnsonrobert|     NULL|         NULL|\n",
      "| 14|2024-05-14 00:02:...|2024-05-14 00:02:...|     NULL|herringrenee@gmai...|*OW%_fLu7+|       Robin|  Chavez|    Nữ|               NULL|   940.053.4962x909|    0|     2|http://www.loremp...|       victoria85|     NULL|         NULL|\n",
      "| 15|2024-05-14 00:02:...|2024-05-14 00:02:...|     NULL|stephenpowell@hub...|rUQr5sZK)2|     Michael| Hampton|    Nữ|               NULL|       322-518-5449|    1|     2|https://placehold...|          uwatson|     NULL|         NULL|\n",
      "| 16|2024-05-14 00:02:...|2024-05-14 00:02:...|     NULL|katelynnorris@hot...|BCb@Mr+L)0|       Megan|    Dunn|    Nữ|               NULL|     1-853-358-4704|    1|     2|http://www.loremp...| frederickescobar|     NULL|         NULL|\n",
      "| 17|2024-05-14 00:02:...|2024-05-14 00:02:...|     NULL|denise67@hotmail.com|UN)1RiUt+W|      Kelsey|  Garcia|  Khác|               NULL|      (036)116-3609|    2|     2|https://placehold...|           tami32|     NULL|         NULL|\n",
      "| 18|2024-05-14 00:02:...|2024-05-14 00:02:...|     NULL|millerroberto@san...|r_@x6Nqose|       David|Anderson|    Nữ|               NULL|1-338-361-6415x9530|    2|     2|http://www.loremp...|          wmurphy|     NULL|         NULL|\n",
      "| 19|2024-05-14 00:02:...|2024-05-14 00:02:...|     NULL|whiteleah@bass-di...|%2Rav5tZkY|        Alan| Nichols|    Nữ|               NULL|     1-633-776-9789|    1|     2|https://dummyimag...|      christian25|     NULL|         NULL|\n",
      "+---+--------------------+--------------------+---------+--------------------+----------+------------+--------+------+-------------------+-------------------+-----+------+--------------------+-----------------+---------+-------------+\n",
      "only showing top 20 rows\n",
      "\n"
     ]
    }
   ],
   "source": [
    "user_df.show()"
   ]
  },
  {
   "cell_type": "code",
   "execution_count": 6,
   "metadata": {},
   "outputs": [
    {
     "name": "stdout",
     "output_type": "stream",
     "text": [
      "+---+------------+--------+--------------------+-------------------+\n",
      "| id|   firstName|lastName|               email|              phone|\n",
      "+---+------------+--------+--------------------+-------------------+\n",
      "|200|Trần Văn Đức|     Anh|anh111.cty@gmail.com|           18375156|\n",
      "|150|  Nguyễn Văn|    Mạnh|manh61.cty@gmail.com|           78778639|\n",
      "|  3|       admin|   admin|  admin@ecommerce.io|               NULL|\n",
      "|  2|        shop|    test|traianthai@gmail.com|               NULL|\n",
      "|  4|       Maria|   Smith|marisacampos@hotm...| (355)090-3692x8791|\n",
      "|  5|     Charles|   Smith|michelleobrien@ya...|(088)622-6104x48167|\n",
      "|  6|       Cathy|   Boyer|veronica60@vincen...|        03093376553|\n",
      "|  7|   Nathaniel|Mcintyre|ramirezgary@yahoo...|1-313-282-1839x1537|\n",
      "|  8|     Abigail|  Howell|adamsjonathan@agu...|(077)519-4387x33017|\n",
      "|  9|       Cindy| Sampson|    ogreen@yahoo.com|  328.504.2836x6889|\n",
      "| 10|        Ruth|    Gray|  ashley48@hill.info|      (994)140-1207|\n",
      "| 11|    Kathleen| Johnson|alyssacastro@yaho...|   592.278.9667x258|\n",
      "| 12|        Karl|  Robles|megansimmons@farl...|  163.957.8480x7426|\n",
      "| 13|     Stephen|Cummings|chamberscesar@yah...|  (496)680-9295x558|\n",
      "| 14|       Robin|  Chavez|herringrenee@gmai...|   940.053.4962x909|\n",
      "| 15|     Michael| Hampton|stephenpowell@hub...|       322-518-5449|\n",
      "| 16|       Megan|    Dunn|katelynnorris@hot...|     1-853-358-4704|\n",
      "| 17|      Kelsey|  Garcia|denise67@hotmail.com|      (036)116-3609|\n",
      "| 18|       David|Anderson|millerroberto@san...|1-338-361-6415x9530|\n",
      "| 19|        Alan| Nichols|whiteleah@bass-di...|     1-633-776-9789|\n",
      "+---+------------+--------+--------------------+-------------------+\n",
      "only showing top 20 rows\n",
      "\n"
     ]
    }
   ],
   "source": [
    "from pyspark.sql.functions import col\n",
    "\n",
    "# Tạo DataFrame mới chỉ chứa cột \"id\" và \"name\"\n",
    "user_df = user_df.select(col(\"id\"), col(\"firstName\"), col(\"lastName\"), col(\"email\"), col(\"phone\"))\n",
    "\n",
    "# Hiển thị DataFrame mới\n",
    "user_df.show()\n"
   ]
  },
  {
   "cell_type": "code",
   "execution_count": 8,
   "metadata": {},
   "outputs": [],
   "source": [
    "# Ghi DataFrame dim_time vào bảng \"dim_time\" trong schema \"demo\"\n",
    "user_df.write \\\n",
    "    .format(\"jdbc\") \\\n",
    "    .option(\"url\", \"jdbc:postgresql://103.245.236.247:5432/data_warehouse\") \\\n",
    "    .option(\"dbtable\", \"public.\\\"Dim_User\\\"\") \\\n",
    "    .option(\"user\", \"traianthai\") \\\n",
    "    .option(\"password\", \"123123\") \\\n",
    "    .mode(\"overwrite\") \\\n",
    "    .save()\n"
   ]
  },
  {
   "cell_type": "code",
   "execution_count": 9,
   "metadata": {},
   "outputs": [],
   "source": [
    "# Đóng SparkSession\n",
    "spark.stop()"
   ]
  }
 ],
 "metadata": {
  "kernelspec": {
   "display_name": "Python 3",
   "language": "python",
   "name": "python3"
  },
  "language_info": {
   "codemirror_mode": {
    "name": "ipython",
    "version": 3
   },
   "file_extension": ".py",
   "mimetype": "text/x-python",
   "name": "python",
   "nbconvert_exporter": "python",
   "pygments_lexer": "ipython3",
   "version": "3.10.5"
  }
 },
 "nbformat": 4,
 "nbformat_minor": 2
}
