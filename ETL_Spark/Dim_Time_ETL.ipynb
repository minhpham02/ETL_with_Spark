{
 "cells": [
  {
   "cell_type": "code",
   "execution_count": 1,
   "metadata": {},
   "outputs": [],
   "source": [
    "from pyspark.sql import SparkSession"
   ]
  },
  {
   "cell_type": "code",
   "execution_count": 2,
   "metadata": {},
   "outputs": [],
   "source": [
    "spark = SparkSession.builder.appName(\"ETL\")\\\n",
    "        .config('spark.jars.packages', 'org.postgresql:postgresql:42.6.2') \\\n",
    "        .getOrCreate()\n",
    "sqlContext = SparkSession(spark)\n",
    "#Dont Show warning only error\n",
    "spark.sparkContext.setLogLevel(\"ERROR\")"
   ]
  },
  {
   "cell_type": "code",
   "execution_count": 3,
   "metadata": {},
   "outputs": [],
   "source": [
    "time_df = spark.read \\\n",
    "    .format(\"jdbc\") \\\n",
    "    .option(\"url\", \"jdbc:postgresql://103.245.236.247:5432/e-commerce\") \\\n",
    "    .option(\"driver\", \"org.postgresql.Driver\")\\\n",
    "    .option(\"user\", \"traianthai\") \\\n",
    "    .option(\"password\", \"123123\") \\\n",
    "    .option(\"dbtable\", \"public.\\\"order_product\\\"\") \\\n",
    "    .load()\n"
   ]
  },
  {
   "cell_type": "code",
   "execution_count": 4,
   "metadata": {},
   "outputs": [
    {
     "name": "stdout",
     "output_type": "stream",
     "text": [
      "+---+--------------------+--------------------+---------+--------+----------+-------+\n",
      "| id|           createdAt|           updatedAt|deletedAt|quantity|productsId|orderId|\n",
      "+---+--------------------+--------------------+---------+--------+----------+-------+\n",
      "|108|2024-05-23 14:11:...|2024-05-23 14:11:...|     NULL|       1|        38|   1412|\n",
      "|109|2024-05-23 14:11:...|2024-05-23 14:11:...|     NULL|       1|        37|   1413|\n",
      "|110|2024-05-23 14:31:...|2024-05-23 14:31:...|     NULL|       5|        37|   1414|\n",
      "| 22|2024-04-29 20:47:...|2024-04-29 20:47:...|     NULL|       1|        24|     13|\n",
      "| 23|2024-04-29 20:47:...|2024-04-29 20:47:...|     NULL|       4|        21|     13|\n",
      "| 24|2024-04-29 20:52:...|2024-04-29 20:52:...|     NULL|       1|        21|     14|\n",
      "| 25|2024-04-29 20:52:...|2024-04-29 20:52:...|     NULL|       1|        24|     14|\n",
      "| 26|2024-04-29 21:02:...|2024-04-29 21:02:...|     NULL|       1|        21|     15|\n",
      "| 27|2024-04-29 21:02:...|2024-04-29 21:02:...|     NULL|       1|        24|     15|\n",
      "| 28|2024-04-29 21:02:...|2024-04-29 21:02:...|     NULL|       1|        21|     16|\n",
      "| 29|2024-04-29 21:02:...|2024-04-29 21:02:...|     NULL|       1|        24|     16|\n",
      "| 30|2024-04-29 21:02:...|2024-04-29 21:02:...|     NULL|       4|        25|     16|\n",
      "| 31|2024-04-30 10:18:...|2024-04-30 10:18:...|     NULL|       2|        24|     17|\n",
      "| 32|2024-04-30 10:18:...|2024-04-30 10:18:...|     NULL|       4|        25|     17|\n",
      "| 33|2024-04-30 10:19:...|2024-04-30 10:19:...|     NULL|       1|        21|     18|\n",
      "| 34|2024-04-30 10:19:...|2024-04-30 10:19:...|     NULL|       1|        24|     18|\n",
      "| 35|2024-04-30 10:19:...|2024-04-30 10:19:...|     NULL|       4|        25|     18|\n",
      "| 36|2024-04-30 10:24:...|2024-04-30 10:24:...|     NULL|       6|        21|     19|\n",
      "| 37|2024-04-30 10:24:...|2024-04-30 10:24:...|     NULL|       4|        24|     19|\n",
      "| 38|2024-04-30 10:29:...|2024-04-30 10:29:...|     NULL|       2|        25|     20|\n",
      "+---+--------------------+--------------------+---------+--------+----------+-------+\n",
      "only showing top 20 rows\n",
      "\n"
     ]
    }
   ],
   "source": [
    "time_df.show()"
   ]
  },
  {
   "cell_type": "code",
   "execution_count": 5,
   "metadata": {},
   "outputs": [],
   "source": [
    "from pyspark.sql.functions import col, to_date\n",
    "# Thực hiện transform để chuyển đổi trường CreateAt sang định dạng yyyy-mm-dd\n",
    "time_df = time_df.select(to_date(col(\"createdAt\")).alias(\"date\"))"
   ]
  },
  {
   "cell_type": "code",
   "execution_count": 6,
   "metadata": {},
   "outputs": [
    {
     "name": "stdout",
     "output_type": "stream",
     "text": [
      "+----------+\n",
      "|      date|\n",
      "+----------+\n",
      "|2024-05-23|\n",
      "|2024-05-23|\n",
      "|2024-05-23|\n",
      "|2024-04-29|\n",
      "|2024-04-29|\n",
      "|2024-04-29|\n",
      "|2024-04-29|\n",
      "|2024-04-29|\n",
      "|2024-04-29|\n",
      "|2024-04-29|\n",
      "|2024-04-29|\n",
      "|2024-04-29|\n",
      "|2024-04-30|\n",
      "|2024-04-30|\n",
      "|2024-04-30|\n",
      "|2024-04-30|\n",
      "|2024-04-30|\n",
      "|2024-04-30|\n",
      "|2024-04-30|\n",
      "|2024-04-30|\n",
      "+----------+\n",
      "only showing top 20 rows\n",
      "\n"
     ]
    }
   ],
   "source": [
    "time_df.show()"
   ]
  },
  {
   "cell_type": "code",
   "execution_count": 7,
   "metadata": {},
   "outputs": [],
   "source": [
    "from pyspark.sql.functions import col, dayofmonth, month, year,when\n",
    "\n",
    "# Tạo DataFrame mới dim_time từ trường CreateAt\n",
    "dim_time_df = time_df.withColumn(\"month\", month(col(\"date\"))) \\\n",
    "                   .withColumn(\"quarter\",  when(col(\"month\").between(1, 3), 1)\n",
    "                                          .when(col(\"month\").between(4, 6), 2)\n",
    "                                          .when(col(\"month\").between(7, 9), 3)\n",
    "                                          .otherwise(4)) \\\n",
    "                   .withColumn(\"year\", year(col(\"date\"))\n",
    ").distinct()"
   ]
  },
  {
   "cell_type": "code",
   "execution_count": 8,
   "metadata": {},
   "outputs": [
    {
     "name": "stdout",
     "output_type": "stream",
     "text": [
      "+----------+-----+-------+----+\n",
      "|      date|month|quarter|year|\n",
      "+----------+-----+-------+----+\n",
      "|2024-05-13|    5|      2|2024|\n",
      "|2024-05-08|    5|      2|2024|\n",
      "|2024-05-14|    5|      2|2024|\n",
      "|2024-04-30|    4|      2|2024|\n",
      "|2024-06-12|    6|      2|2024|\n",
      "|2024-05-23|    5|      2|2024|\n",
      "|2024-04-29|    4|      2|2024|\n",
      "|2024-05-21|    5|      2|2024|\n",
      "|2024-05-24|    5|      2|2024|\n",
      "|2024-05-15|    5|      2|2024|\n",
      "|2024-05-22|    5|      2|2024|\n",
      "|2024-05-10|    5|      2|2024|\n",
      "+----------+-----+-------+----+\n",
      "\n"
     ]
    }
   ],
   "source": [
    "dim_time_df.show()"
   ]
  },
  {
   "cell_type": "code",
   "execution_count": 9,
   "metadata": {},
   "outputs": [],
   "source": [
    "from pyspark.sql.functions import monotonically_increasing_id\n",
    "\n",
    "# Thêm trường time_id bằng cách sử dụng hàm monotonically_increasing_id()\n",
    "dim_time_df = dim_time_df.withColumn(\"time_id\", monotonically_increasing_id())\n"
   ]
  },
  {
   "cell_type": "code",
   "execution_count": 10,
   "metadata": {},
   "outputs": [
    {
     "name": "stdout",
     "output_type": "stream",
     "text": [
      "+----------+-----+-------+----+-------+\n",
      "|      date|month|quarter|year|time_id|\n",
      "+----------+-----+-------+----+-------+\n",
      "|2024-05-13|    5|      2|2024|      0|\n",
      "|2024-05-08|    5|      2|2024|      1|\n",
      "|2024-05-14|    5|      2|2024|      2|\n",
      "|2024-04-30|    4|      2|2024|      3|\n",
      "|2024-06-12|    6|      2|2024|      4|\n",
      "|2024-05-23|    5|      2|2024|      5|\n",
      "|2024-04-29|    4|      2|2024|      6|\n",
      "|2024-05-21|    5|      2|2024|      7|\n",
      "|2024-05-24|    5|      2|2024|      8|\n",
      "|2024-05-15|    5|      2|2024|      9|\n",
      "|2024-05-22|    5|      2|2024|     10|\n",
      "|2024-05-10|    5|      2|2024|     11|\n",
      "+----------+-----+-------+----+-------+\n",
      "\n"
     ]
    }
   ],
   "source": [
    "dim_time_df.show()"
   ]
  },
  {
   "cell_type": "code",
   "execution_count": 11,
   "metadata": {},
   "outputs": [],
   "source": [
    "# Ghi DataFrame dim_time vào bảng \"dim_time\" trong schema \"public\"\n",
    "dim_time_df.write \\\n",
    "    .format(\"jdbc\") \\\n",
    "    .option(\"url\", \"jdbc:postgresql://103.245.236.247:5432/data_warehouse\") \\\n",
    "    .option(\"dbtable\", \"public.\\\"Dim_Time\\\"\") \\\n",
    "    .option(\"user\", \"traianthai\") \\\n",
    "    .option(\"password\", \"123123\") \\\n",
    "    .mode(\"overwrite\") \\\n",
    "    .save()\n"
   ]
  },
  {
   "cell_type": "code",
   "execution_count": 12,
   "metadata": {},
   "outputs": [],
   "source": [
    "# Đóng SparkSession\n",
    "spark.stop()"
   ]
  }
 ],
 "metadata": {
  "kernelspec": {
   "display_name": "Python 3",
   "language": "python",
   "name": "python3"
  },
  "language_info": {
   "codemirror_mode": {
    "name": "ipython",
    "version": 3
   },
   "file_extension": ".py",
   "mimetype": "text/x-python",
   "name": "python",
   "nbconvert_exporter": "python",
   "pygments_lexer": "ipython3",
   "version": "3.10.5"
  }
 },
 "nbformat": 4,
 "nbformat_minor": 2
}
