{
 "cells": [
  {
   "cell_type": "code",
   "execution_count": 1,
   "metadata": {},
   "outputs": [],
   "source": [
    "from pyspark.sql import SparkSession"
   ]
  },
  {
   "cell_type": "code",
   "execution_count": 2,
   "metadata": {},
   "outputs": [],
   "source": [
    "spark = SparkSession.builder.appName(\"ETL\")\\\n",
    "        .config('spark.jars.packages', 'org.postgresql:postgresql:42.6.2') \\\n",
    "        .getOrCreate()\n",
    "sqlContext = SparkSession(spark)\n",
    "#Dont Show warning only error\n",
    "spark.sparkContext.setLogLevel(\"ERROR\")"
   ]
  },
  {
   "cell_type": "code",
   "execution_count": 3,
   "metadata": {},
   "outputs": [],
   "source": [
    "category_df = spark.read \\\n",
    "    .format(\"jdbc\") \\\n",
    "    .option(\"url\", \"jdbc:postgresql://103.245.236.247:5432/e-commerce\") \\\n",
    "    .option(\"driver\", \"org.postgresql.Driver\")\\\n",
    "    .option(\"user\", \"traianthai\") \\\n",
    "    .option(\"password\", \"123123\") \\\n",
    "    .option(\"dbtable\", \"public.\\\"category\\\"\") \\\n",
    "    .load()\n"
   ]
  },
  {
   "cell_type": "code",
   "execution_count": 4,
   "metadata": {},
   "outputs": [
    {
     "name": "stdout",
     "output_type": "stream",
     "text": [
      "+---+--------------------+--------------------+---------+--------------------+\n",
      "| id|           createdAt|           updatedAt|deletedAt|                name|\n",
      "+---+--------------------+--------------------+---------+--------------------+\n",
      "|  1|2024-04-26 10:49:...|2024-04-26 10:49:...|     NULL|  Rau xanh, rau tươi|\n",
      "|  2|2024-04-26 10:49:...|2024-04-26 10:49:...|     NULL|                 Nấm|\n",
      "|  3|2024-04-26 10:49:...|2024-04-26 10:49:...|     NULL|                Root|\n",
      "|  4|2024-04-26 10:49:...|2024-04-26 10:49:...|     NULL|     Bách Hóa Online|\n",
      "|  5|2024-04-26 10:49:...|2024-04-26 10:49:...|     NULL|Hành, tỏi, ớt, ra...|\n",
      "|  6|2024-04-26 10:49:...|2024-04-26 10:49:...|     NULL|  Củ, quả, măng tươi|\n",
      "|  7|2024-04-26 10:49:...|2024-04-26 10:49:...|     NULL|        Combo rau củ|\n",
      "|  8|2024-04-26 10:49:...|2024-04-26 10:49:...|     NULL|  Nông sản tươi khác|\n",
      "|  9|2024-04-26 10:49:...|2024-04-26 10:49:...|     NULL|     Rau Củ Quả Xanh|\n",
      "| 10|2024-04-26 10:49:...|2024-04-26 10:49:...|     NULL|   Rau Củ Quả Sơ Chế|\n",
      "| 11|2024-04-26 10:49:...|2024-04-26 10:49:...|     NULL|    Các loại đậu hạt|\n",
      "| 12|2024-04-26 10:49:...|2024-04-26 10:49:...|     NULL|                NGON|\n",
      "| 13|2024-04-26 10:49:...|2024-04-26 10:49:...|     NULL|             Củ, quả|\n",
      "| 14|2024-04-26 10:49:...|2024-04-26 10:49:...|     NULL|           Măng tươi|\n",
      "| 15|2024-04-26 10:49:...|2024-04-26 10:49:...|     NULL|       Hành, tỏi, ớt|\n",
      "+---+--------------------+--------------------+---------+--------------------+\n",
      "\n"
     ]
    }
   ],
   "source": [
    "category_df.show()"
   ]
  },
  {
   "cell_type": "code",
   "execution_count": 5,
   "metadata": {},
   "outputs": [
    {
     "name": "stdout",
     "output_type": "stream",
     "text": [
      "+---+--------------------+\n",
      "| id|                name|\n",
      "+---+--------------------+\n",
      "|  1|  Rau xanh, rau tươi|\n",
      "|  2|                 Nấm|\n",
      "|  3|                Root|\n",
      "|  4|     Bách Hóa Online|\n",
      "|  5|Hành, tỏi, ớt, ra...|\n",
      "|  6|  Củ, quả, măng tươi|\n",
      "|  7|        Combo rau củ|\n",
      "|  8|  Nông sản tươi khác|\n",
      "|  9|     Rau Củ Quả Xanh|\n",
      "| 10|   Rau Củ Quả Sơ Chế|\n",
      "| 11|    Các loại đậu hạt|\n",
      "| 12|                NGON|\n",
      "| 13|             Củ, quả|\n",
      "| 14|           Măng tươi|\n",
      "| 15|       Hành, tỏi, ớt|\n",
      "+---+--------------------+\n",
      "\n"
     ]
    }
   ],
   "source": [
    "from pyspark.sql.functions import col\n",
    "\n",
    "# Tạo DataFrame mới chỉ chứa cột \"id\" và \"name\"\n",
    "category_df = category_df.select(col(\"id\"), col(\"name\"))\n",
    "\n",
    "# Hiển thị DataFrame mới\n",
    "category_df.show()\n"
   ]
  },
  {
   "cell_type": "code",
   "execution_count": 6,
   "metadata": {},
   "outputs": [],
   "source": [
    "# Ghi DataFrame dim_time vào bảng \"Dim_Category\" trong schema \"demo\"\n",
    "category_df.write \\\n",
    "    .format(\"jdbc\") \\\n",
    "    .option(\"url\", \"jdbc:postgresql://103.245.236.247:5432/data_warehouse\") \\\n",
    "    .option(\"dbtable\", \"public.\\\"Dim_Category\\\"\") \\\n",
    "    .option(\"user\", \"traianthai\") \\\n",
    "    .option(\"password\", \"123123\") \\\n",
    "    .mode(\"overwrite\") \\\n",
    "    .save()\n"
   ]
  },
  {
   "cell_type": "code",
   "execution_count": null,
   "metadata": {},
   "outputs": [],
   "source": [
    "# Đóng SparkSession\n",
    "spark.stop()"
   ]
  }
 ],
 "metadata": {
  "kernelspec": {
   "display_name": "Python 3",
   "language": "python",
   "name": "python3"
  },
  "language_info": {
   "codemirror_mode": {
    "name": "ipython",
    "version": 3
   },
   "file_extension": ".py",
   "mimetype": "text/x-python",
   "name": "python",
   "nbconvert_exporter": "python",
   "pygments_lexer": "ipython3",
   "version": "3.10.5"
  }
 },
 "nbformat": 4,
 "nbformat_minor": 2
}
