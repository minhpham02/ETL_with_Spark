{
 "cells": [
  {
   "cell_type": "code",
   "execution_count": 4,
   "metadata": {},
   "outputs": [],
   "source": [
    "from pyspark.sql import SparkSession"
   ]
  },
  {
   "cell_type": "code",
   "execution_count": 5,
   "metadata": {},
   "outputs": [],
   "source": [
    "spark = SparkSession.builder.appName(\"ETL\")\\\n",
    "        .config('spark.jars.packages', 'org.postgresql:postgresql:42.6.2') \\\n",
    "        .getOrCreate()\n",
    "sqlContext = SparkSession(spark)\n",
    "#Dont Show warning only error\n",
    "spark.sparkContext.setLogLevel(\"ERROR\")"
   ]
  },
  {
   "cell_type": "code",
   "execution_count": 6,
   "metadata": {},
   "outputs": [],
   "source": [
    "# đọc dữ liệu từ các bảng dim\n",
    "product_df = spark.read \\\n",
    "    .format(\"jdbc\") \\\n",
    "    .option(\"url\", \"jdbc:postgresql://103.245.236.247:5432/data_warehouse\") \\\n",
    "    .option(\"driver\", \"org.postgresql.Driver\")\\\n",
    "    .option(\"user\", \"traianthai\") \\\n",
    "    .option(\"password\", \"123123\") \\\n",
    "    .option(\"dbtable\", \"public.\\\"Dim_Product\\\"\") \\\n",
    "    .load()\n",
    "\n",
    "store_df = spark.read \\\n",
    "    .format(\"jdbc\") \\\n",
    "    .option(\"url\", \"jdbc:postgresql://103.245.236.247:5432/data_warehouse\") \\\n",
    "    .option(\"driver\", \"org.postgresql.Driver\")\\\n",
    "    .option(\"user\", \"traianthai\") \\\n",
    "    .option(\"password\", \"123123\") \\\n",
    "    .option(\"dbtable\", \"public.\\\"Dim_Store\\\"\") \\\n",
    "    .load()\n",
    "\n",
    "time_df = spark.read \\\n",
    "    .format(\"jdbc\") \\\n",
    "    .option(\"url\", \"jdbc:postgresql://103.245.236.247:5432/data_warehouse\") \\\n",
    "    .option(\"driver\", \"org.postgresql.Driver\")\\\n",
    "    .option(\"user\", \"traianthai\") \\\n",
    "    .option(\"password\", \"123123\") \\\n",
    "    .option(\"dbtable\", \"public.\\\"Dim_Time\\\"\") \\\n",
    "    .load()"
   ]
  },
  {
   "cell_type": "code",
   "execution_count": 7,
   "metadata": {},
   "outputs": [],
   "source": [
    "# đọc dữ liệu từ bảng nguồn\n",
    "order_df = spark.read \\\n",
    "    .format(\"jdbc\") \\\n",
    "    .option(\"url\", \"jdbc:postgresql://103.245.236.247:5432/e-commerce\") \\\n",
    "    .option(\"driver\", \"org.postgresql.Driver\")\\\n",
    "    .option(\"user\", \"traianthai\") \\\n",
    "    .option(\"password\", \"123123\") \\\n",
    "    .option(\"dbtable\", \"public.\\\"order\\\"\") \\\n",
    "    .load()\n",
    "\n",
    "order_product_df = spark.read \\\n",
    "    .format(\"jdbc\") \\\n",
    "    .option(\"url\", \"jdbc:postgresql://103.245.236.247:5432/e-commerce\") \\\n",
    "    .option(\"driver\", \"org.postgresql.Driver\")\\\n",
    "    .option(\"user\", \"traianthai\") \\\n",
    "    .option(\"password\", \"123123\") \\\n",
    "    .option(\"dbtable\", \"public.\\\"order_product\\\"\") \\\n",
    "    .load()"
   ]
  },
  {
   "cell_type": "code",
   "execution_count": 8,
   "metadata": {},
   "outputs": [
    {
     "name": "stdout",
     "output_type": "stream",
     "text": [
      "+-------+----------+------+--------+-------+\n",
      "|time_id|product_id|shopId|Quantity|Revenue|\n",
      "+-------+----------+------+--------+-------+\n",
      "|      7|        39|   131|      25| 600500|\n",
      "|      6|        24|     1|      16| 553000|\n",
      "|      3|        27|     1|      12| 316000|\n",
      "|      2|        26|     1|      14|1708000|\n",
      "|      8|       303|   111|       5|  65000|\n",
      "|      7|        41|     2|       1|  24000|\n",
      "|      3|        24|     1|      16| 553000|\n",
      "|      9|       180|   131|      30|1200000|\n",
      "|     11|        40|   111|       6| 390500|\n",
      "|      2|        27|     1|      15|1535500|\n",
      "|     11|        33|     1|       2| 178000|\n",
      "|      5|        41|     2|       1|  24000|\n",
      "|      8|        28|     1|      10|1503000|\n",
      "|     11|        28|     1|      10|1503000|\n",
      "|      7|        29|     1|      21|1748500|\n",
      "|      7|        26|     1|      14|1708000|\n",
      "|      9|        36|   190|       1|  48000|\n",
      "|     11|       303|   111|       5|  65000|\n",
      "|     10|        41|     2|       1|  24000|\n",
      "|      4|       180|   131|       5| 200000|\n",
      "+-------+----------+------+--------+-------+\n",
      "only showing top 20 rows\n",
      "\n"
     ]
    }
   ],
   "source": [
    "from pyspark.sql.functions import col, month, year, to_date, when, sum, expr\n",
    "\n",
    "# Chuyển đổi thời gian trong order_product_df sang định dạng ngày tháng năm\n",
    "order_product_df = order_product_df.withColumn(\"date\", to_date(col(\"createdAt\"))) \\\n",
    "                                   .withColumn(\"month\", month(col(\"date\"))) \\\n",
    "                                   .withColumn(\"quarter\", when(col(\"month\").between(1, 3), 1)\n",
    "                                                          .when(col(\"month\").between(4, 6), 2)\n",
    "                                                          .when(col(\"month\").between(7, 9), 3)\n",
    "                                                          .otherwise(4)) \\\n",
    "                                   .withColumn(\"year\", year(col(\"date\"))) \\\n",
    "                                   .drop(\"createdAt\")\n",
    "# Đổi tên cột `id` trong các DataFrame để tránh xung đột\n",
    "order_product_df = order_product_df.withColumnRenamed(\"id\", \"order_product_id\")\n",
    "order_df = order_df.withColumnRenamed(\"id\", \"order_id\")\n",
    "product_df = product_df.withColumnRenamed(\"id\", \"product_id\")\n",
    "\n",
    "# Thực hiện ánh xạ và tạo dataframe cho bảng Fact_Sales\n",
    "fact_product_df = order_product_df \\\n",
    "    .join(order_df, order_product_df[\"orderId\"] == order_df[\"order_id\"]) \\\n",
    "    .join(time_df, (order_product_df[\"month\"] == time_df[\"month\"]) & \n",
    "                  (order_product_df[\"quarter\"] == time_df[\"quarter\"]) & \n",
    "                  (order_product_df[\"year\"] == time_df[\"year\"])) \\\n",
    "    .join(product_df, order_product_df[\"productsId\"] == product_df[\"product_id\"]) \\\n",
    "    .groupBy(\n",
    "        col(\"time_id\"),\n",
    "        col(\"product_id\"),\n",
    "        col(\"shopId\")\n",
    "    ) \\\n",
    "    .agg(\n",
    "        sum(col(\"quantity\")).alias(\"Quantity\"),\n",
    "        sum(col(\"totalPrice\")).alias(\"Revenue\")\n",
    "    )\n",
    "\n",
    "# Kiểm tra dữ liệu trước khi đổ vào bảng Fact\n",
    "fact_product_df.show()\n"
   ]
  },
  {
   "cell_type": "code",
   "execution_count": 9,
   "metadata": {},
   "outputs": [],
   "source": [
    "# Ghi DataFrame vào bảng \"Fact_Product\" trong schema \"public\"\n",
    "fact_product_df.write \\\n",
    "    .format(\"jdbc\") \\\n",
    "    .option(\"url\", \"jdbc:postgresql://103.245.236.247:5432/data_warehouse\") \\\n",
    "    .option(\"dbtable\", \"public.\\\"Fact_Product\\\"\") \\\n",
    "    .option(\"user\", \"traianthai\") \\\n",
    "    .option(\"password\", \"123123\") \\\n",
    "    .mode(\"overwrite\") \\\n",
    "    .save()\n"
   ]
  },
  {
   "cell_type": "code",
   "execution_count": 10,
   "metadata": {},
   "outputs": [],
   "source": [
    "# Đóng SparkSession\n",
    "spark.stop()"
   ]
  }
 ],
 "metadata": {
  "kernelspec": {
   "display_name": "Python 3",
   "language": "python",
   "name": "python3"
  },
  "language_info": {
   "codemirror_mode": {
    "name": "ipython",
    "version": 3
   },
   "file_extension": ".py",
   "mimetype": "text/x-python",
   "name": "python",
   "nbconvert_exporter": "python",
   "pygments_lexer": "ipython3",
   "version": "3.10.5"
  }
 },
 "nbformat": 4,
 "nbformat_minor": 2
}
