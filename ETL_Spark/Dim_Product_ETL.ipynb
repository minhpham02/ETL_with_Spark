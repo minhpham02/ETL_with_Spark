{
 "cells": [
  {
   "cell_type": "code",
   "execution_count": 1,
   "metadata": {},
   "outputs": [],
   "source": [
    "from pyspark.sql import SparkSession"
   ]
  },
  {
   "cell_type": "code",
   "execution_count": 2,
   "metadata": {},
   "outputs": [],
   "source": [
    "spark = SparkSession.builder.appName(\"ETL\")\\\n",
    "        .config('spark.jars.packages', 'org.postgresql:postgresql:42.6.2') \\\n",
    "        .getOrCreate()\n",
    "sqlContext = SparkSession(spark)\n",
    "#Dont Show warning only error\n",
    "spark.sparkContext.setLogLevel(\"ERROR\")"
   ]
  },
  {
   "cell_type": "code",
   "execution_count": 6,
   "metadata": {},
   "outputs": [],
   "source": [
    "product_df = spark.read \\\n",
    "    .format(\"jdbc\") \\\n",
    "    .option(\"url\", \"jdbc:postgresql://103.245.236.247:5432/e-commerce\") \\\n",
    "    .option(\"driver\", \"org.postgresql.Driver\")\\\n",
    "    .option(\"user\", \"traianthai\") \\\n",
    "    .option(\"password\", \"123123\") \\\n",
    "    .option(\"dbtable\", \"public.\\\"product\\\"\") \\\n",
    "    .load()\n"
   ]
  },
  {
   "cell_type": "code",
   "execution_count": 7,
   "metadata": {},
   "outputs": [
    {
     "name": "stdout",
     "output_type": "stream",
     "text": [
      "+---+--------------------+--------------------+---------+--------------------+-----+--------------------+--------------------+----------+-------+\n",
      "| id|           createdAt|           updatedAt|deletedAt|                name|price|         description|                 img|categoryId|brandId|\n",
      "+---+--------------------+--------------------+---------+--------------------+-----+--------------------+--------------------+----------+-------+\n",
      "|301|2024-04-26 10:49:...|2024-04-26 10:49:...|     NULL|[CHỈ GIAO HCM] Hà...|17000|Hành tây tím có r...|https://salt.tiki...|        15|      4|\n",
      "|104|2024-04-26 10:49:...|2024-04-26 10:49:...|     NULL|    Cải Thảo (800gr)|50000|Cải thảo là một l...|https://salt.tiki...|         1|      6|\n",
      "|174|2024-04-26 10:49:...|2024-04-26 10:49:...|     NULL|Cải Bẹ Xanh Thủy ...|31000|Cải bẹ xanh (còn ...|https://salt.tiki...|         1|      6|\n",
      "|259|2024-04-26 10:49:...|2024-04-26 10:49:...|     NULL|Cà chua beef Viet...|22000|       Cà chua be...|https://salt.tiki...|         3|      1|\n",
      "| 45|2024-04-26 10:49:...|2024-04-26 10:49:...|     NULL|[Chỉ Giao HCM] - ...|30000|Bắp cải trái tim ...|https://salt.tiki...|         3|      2|\n",
      "|144|2024-04-26 10:49:...|2024-04-26 10:49:...|     NULL|Khoai Môn Gọt Vỏ ...|45000|Với 100% khoai mô...|https://salt.tiki...|        13|      6|\n",
      "|160|2024-04-26 10:49:...|2024-04-26 10:49:...|     NULL|Nấm Bào Ngư Xám T...|22000|Nấm Bào Ngư XámTH...|https://salt.tiki...|         2|      6|\n",
      "|262|2024-04-26 10:49:...|2024-04-26 10:49:...|     NULL|[CHỈ GIAO HCM] Cả...| 9000|Cải mầm có rất nh...|https://salt.tiki...|         1|      1|\n",
      "|271|2024-04-26 10:49:...|2024-04-26 10:49:...|     NULL|   Ngò Om (Gói 50Gr)| 8000|Rau ngò ôm, ngò g...|https://salt.tiki...|         1|      6|\n",
      "|258|2024-04-26 10:49:...|2024-04-26 10:49:...|     NULL|Rong biển khô nấu...|30000|RONG BIỂN KHÔ NẤU...|https://salt.tiki...|         3|      1|\n",
      "|108|2024-04-26 10:49:...|2024-04-26 10:49:...|     NULL|Măng Tây (Gói 200Gr)|45000|Măng tây xanh là ...|https://salt.tiki...|         1|      6|\n",
      "|273|2024-04-26 10:49:...|2024-04-26 10:49:...|     NULL|       Bắp Mỹ (Trái)|19000|Trái Bắp Mỹ có hì...|https://salt.tiki...|         1|      6|\n",
      "| 28|2024-04-26 10:49:...|2024-04-26 10:49:...|     NULL|Giá Sạch (Gói 300Gr)|15000|Giá đỗ giúp cơ th...|https://salt.tiki...|         3|      6|\n",
      "|  2|2024-04-26 10:49:...|2024-04-26 10:49:...|     NULL|Cải Bó Xôi (Gói 2...|37000|Cải bó xôi có tên...|https://salt.tiki...|         1|      6|\n",
      "| 29|2024-04-26 10:49:...|2024-04-26 10:49:...|     NULL|[Chỉ Giao HCM] - ...|20000|Rau má không chỉ ...|https://salt.tiki...|        12|      2|\n",
      "|198|2024-04-26 10:49:...|2024-04-26 10:49:...|     NULL|      Khoai Mỡ - 1Kg|85000|Chắc hẳn bạn đã t...|https://salt.tiki...|        13|      6|\n",
      "|251|2024-04-26 10:49:...|2024-04-26 10:49:...|     NULL|Đậu Hà Lan (Khay ...|68000|Đậu hà lan không ...|https://salt.tiki...|         3|      6|\n",
      "|207|2024-04-26 10:49:...|2024-04-26 10:49:...|     NULL|Đậu Ngự (Khay 200Gr)|49000|Đậu Ngự là một lo...|https://salt.tiki...|         1|      6|\n",
      "|239|2024-04-26 10:50:...|2024-04-26 10:50:...|     NULL| Đậu que Đà Lạt khay|25000|Đậu que Đà Lạt kh...|https://salt.tiki...|         1|      1|\n",
      "|112|2024-04-26 10:49:...|2024-04-26 10:49:...|     NULL|Bông Cải Xanh Bab...|51000|Bông cải xanh hoặ...|https://salt.tiki...|         1|      6|\n",
      "+---+--------------------+--------------------+---------+--------------------+-----+--------------------+--------------------+----------+-------+\n",
      "only showing top 20 rows\n",
      "\n"
     ]
    }
   ],
   "source": [
    "product_df.show()"
   ]
  },
  {
   "cell_type": "code",
   "execution_count": 9,
   "metadata": {},
   "outputs": [
    {
     "name": "stdout",
     "output_type": "stream",
     "text": [
      "+---+--------------------+-----+-------+----------+\n",
      "| id|                name|price|brandId|categoryId|\n",
      "+---+--------------------+-----+-------+----------+\n",
      "|301|[CHỈ GIAO HCM] Hà...|17000|      4|        15|\n",
      "|104|    Cải Thảo (800gr)|50000|      6|         1|\n",
      "|174|Cải Bẹ Xanh Thủy ...|31000|      6|         1|\n",
      "|259|Cà chua beef Viet...|22000|      1|         3|\n",
      "| 45|[Chỉ Giao HCM] - ...|30000|      2|         3|\n",
      "|144|Khoai Môn Gọt Vỏ ...|45000|      6|        13|\n",
      "|160|Nấm Bào Ngư Xám T...|22000|      6|         2|\n",
      "|262|[CHỈ GIAO HCM] Cả...| 9000|      1|         1|\n",
      "|271|   Ngò Om (Gói 50Gr)| 8000|      6|         1|\n",
      "|258|Rong biển khô nấu...|30000|      1|         3|\n",
      "|108|Măng Tây (Gói 200Gr)|45000|      6|         1|\n",
      "|273|       Bắp Mỹ (Trái)|19000|      6|         1|\n",
      "| 28|Giá Sạch (Gói 300Gr)|15000|      6|         3|\n",
      "|  2|Cải Bó Xôi (Gói 2...|37000|      6|         1|\n",
      "| 29|[Chỉ Giao HCM] - ...|20000|      2|        12|\n",
      "|198|      Khoai Mỡ - 1Kg|85000|      6|        13|\n",
      "|251|Đậu Hà Lan (Khay ...|68000|      6|         3|\n",
      "|207|Đậu Ngự (Khay 200Gr)|49000|      6|         1|\n",
      "|239| Đậu que Đà Lạt khay|25000|      1|         1|\n",
      "|112|Bông Cải Xanh Bab...|51000|      6|         1|\n",
      "+---+--------------------+-----+-------+----------+\n",
      "only showing top 20 rows\n",
      "\n"
     ]
    }
   ],
   "source": [
    "from pyspark.sql.functions import col\n",
    "\n",
    "# Tạo DataFrame mới chỉ chứa cột \"id\" và \"name\"\n",
    "product_df = product_df.select(col(\"id\"), col(\"name\"), col(\"price\"), col(\"brandId\"), col(\"categoryId\"))\n",
    "\n",
    "# Hiển thị DataFrame mới\n",
    "product_df.show()\n"
   ]
  },
  {
   "cell_type": "code",
   "execution_count": 10,
   "metadata": {},
   "outputs": [],
   "source": [
    "# Ghi DataFrame vào bảng \"Dim_Product\" trong schema \"public\"\n",
    "product_df.write \\\n",
    "    .format(\"jdbc\") \\\n",
    "    .option(\"url\", \"jdbc:postgresql://103.245.236.247:5432/data_warehouse\") \\\n",
    "    .option(\"dbtable\", \"public.\\\"Dim_Product\\\"\") \\\n",
    "    .option(\"user\", \"traianthai\") \\\n",
    "    .option(\"password\", \"123123\") \\\n",
    "    .mode(\"overwrite\") \\\n",
    "    .save()\n"
   ]
  },
  {
   "cell_type": "code",
   "execution_count": 11,
   "metadata": {},
   "outputs": [],
   "source": [
    "# Đóng SparkSession\n",
    "spark.stop()"
   ]
  }
 ],
 "metadata": {
  "kernelspec": {
   "display_name": "Python 3",
   "language": "python",
   "name": "python3"
  },
  "language_info": {
   "codemirror_mode": {
    "name": "ipython",
    "version": 3
   },
   "file_extension": ".py",
   "mimetype": "text/x-python",
   "name": "python",
   "nbconvert_exporter": "python",
   "pygments_lexer": "ipython3",
   "version": "3.10.5"
  }
 },
 "nbformat": 4,
 "nbformat_minor": 2
}
