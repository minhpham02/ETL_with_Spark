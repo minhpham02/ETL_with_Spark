{
 "cells": [
  {
   "cell_type": "code",
   "execution_count": 1,
   "metadata": {},
   "outputs": [],
   "source": [
    "from pyspark.sql import SparkSession"
   ]
  },
  {
   "cell_type": "code",
   "execution_count": 2,
   "metadata": {},
   "outputs": [],
   "source": [
    "spark = SparkSession.builder.appName(\"ETL\")\\\n",
    "        .config('spark.jars.packages', 'org.postgresql:postgresql:42.6.2') \\\n",
    "        .getOrCreate()\n",
    "sqlContext = SparkSession(spark)\n",
    "#Dont Show warning only error\n",
    "spark.sparkContext.setLogLevel(\"ERROR\")"
   ]
  },
  {
   "cell_type": "code",
   "execution_count": 3,
   "metadata": {},
   "outputs": [],
   "source": [
    "shop_df = spark.read \\\n",
    "    .format(\"jdbc\") \\\n",
    "    .option(\"url\", \"jdbc:postgresql://103.245.236.247:5432/e-commerce\") \\\n",
    "    .option(\"driver\", \"org.postgresql.Driver\")\\\n",
    "    .option(\"user\", \"traianthai\") \\\n",
    "    .option(\"password\", \"123123\") \\\n",
    "    .option(\"dbtable\", \"public.\\\"shop\\\"\") \\\n",
    "    .load()\n"
   ]
  },
  {
   "cell_type": "code",
   "execution_count": 4,
   "metadata": {},
   "outputs": [
    {
     "name": "stdout",
     "output_type": "stream",
     "text": [
      "+---+--------------------+--------------------+---------+--------------------+---------+------+\n",
      "| id|           createdAt|           updatedAt|deletedAt|                name|addressId|userId|\n",
      "+---+--------------------+--------------------+---------+--------------------+---------+------+\n",
      "|  2|2024-05-14 20:44:...|2024-05-14 20:44:...|     NULL|   Cửa hàng Đông Anh|     NULL|    99|\n",
      "|  3|2024-05-14 20:44:...|2024-05-14 20:44:...|     NULL|   Cửa hàng Xuân Nộn|     NULL|   100|\n",
      "|  4|2024-05-14 20:44:...|2024-05-14 20:44:...|     NULL|     Cửa hàng Vân Hà|     NULL|   101|\n",
      "|  5|2024-05-14 20:44:...|2024-05-14 20:44:...|     NULL|  Cửa hàng Kim Chung|     NULL|   102|\n",
      "|  6|2024-05-14 20:44:...|2024-05-14 20:44:...|     NULL|   Cửa hàng Đại Mạch|     NULL|   103|\n",
      "|  7|2024-05-14 20:44:...|2024-05-14 20:44:...|     NULL| Cửa hàng Tiên Dương|     NULL|   104|\n",
      "|  8|2024-05-14 20:44:...|2024-05-14 20:44:...|     NULL|    Cửa hàng Vân Nội|     NULL|   105|\n",
      "|  9|2024-05-14 20:44:...|2024-05-14 20:44:...|     NULL|  Cửa hàng Hồng Tiến|     NULL|   106|\n",
      "| 10|2024-05-14 20:44:...|2024-05-14 20:44:...|     NULL| Cửa hàng Đan Phượng|     NULL|   107|\n",
      "| 11|2024-05-14 20:44:...|2024-05-14 20:44:...|     NULL|   Cửa hàng Liên Mạc|     NULL|   108|\n",
      "| 12|2024-05-14 20:44:...|2024-05-14 20:44:...|     NULL| Cửa hàng  Đồng Tháp|     NULL|   109|\n",
      "| 13|2024-05-14 20:44:...|2024-05-14 20:44:...|     NULL|Cửa hàng Song Phượng|     NULL|   110|\n",
      "| 14|2024-05-14 20:44:...|2024-05-14 20:44:...|     NULL|  Cửa hàng Trung Hòa|     NULL|   111|\n",
      "| 15|2024-05-14 20:44:...|2024-05-14 20:44:...|     NULL| Cửa hàng Trung Châu|     NULL|   112|\n",
      "| 16|2024-05-14 20:44:...|2024-05-14 20:44:...|     NULL|    Cửa hàng Hồng Hà|     NULL|   113|\n",
      "| 17|2024-05-14 20:44:...|2024-05-14 20:44:...|     NULL|      Cửa hàng Phùng|     NULL|   114|\n",
      "| 18|2024-05-14 20:44:...|2024-05-14 20:44:...|     NULL| Cửa hàng Thượng Cát|     NULL|   115|\n",
      "| 19|2024-05-14 20:44:...|2024-05-14 20:44:...|     NULL|   Cửa hàng Yên Viên|     NULL|   116|\n",
      "| 20|2024-05-14 20:44:...|2024-05-14 20:44:...|     NULL|   Cửa hàng Trâu Quỳ|     NULL|   117|\n",
      "| 21|2024-05-14 20:44:...|2024-05-14 20:44:...|     NULL|   Cửa hàng Yên Viên|     NULL|   118|\n",
      "+---+--------------------+--------------------+---------+--------------------+---------+------+\n",
      "only showing top 20 rows\n",
      "\n"
     ]
    }
   ],
   "source": [
    "shop_df.show()"
   ]
  },
  {
   "cell_type": "code",
   "execution_count": 6,
   "metadata": {},
   "outputs": [
    {
     "name": "stdout",
     "output_type": "stream",
     "text": [
      "+---+--------------------+---------+\n",
      "| id|                name|addressId|\n",
      "+---+--------------------+---------+\n",
      "|  2|   Cửa hàng Đông Anh|     NULL|\n",
      "|  3|   Cửa hàng Xuân Nộn|     NULL|\n",
      "|  4|     Cửa hàng Vân Hà|     NULL|\n",
      "|  5|  Cửa hàng Kim Chung|     NULL|\n",
      "|  6|   Cửa hàng Đại Mạch|     NULL|\n",
      "|  7| Cửa hàng Tiên Dương|     NULL|\n",
      "|  8|    Cửa hàng Vân Nội|     NULL|\n",
      "|  9|  Cửa hàng Hồng Tiến|     NULL|\n",
      "| 10| Cửa hàng Đan Phượng|     NULL|\n",
      "| 11|   Cửa hàng Liên Mạc|     NULL|\n",
      "| 12| Cửa hàng  Đồng Tháp|     NULL|\n",
      "| 13|Cửa hàng Song Phượng|     NULL|\n",
      "| 14|  Cửa hàng Trung Hòa|     NULL|\n",
      "| 15| Cửa hàng Trung Châu|     NULL|\n",
      "| 16|    Cửa hàng Hồng Hà|     NULL|\n",
      "| 17|      Cửa hàng Phùng|     NULL|\n",
      "| 18| Cửa hàng Thượng Cát|     NULL|\n",
      "| 19|   Cửa hàng Yên Viên|     NULL|\n",
      "| 20|   Cửa hàng Trâu Quỳ|     NULL|\n",
      "| 21|   Cửa hàng Yên Viên|     NULL|\n",
      "+---+--------------------+---------+\n",
      "only showing top 20 rows\n",
      "\n"
     ]
    }
   ],
   "source": [
    "from pyspark.sql.functions import col\n",
    "\n",
    "# Tạo DataFrame mới chỉ chứa cột \"id\" và \"name\"\n",
    "shop_df = shop_df.select(col(\"id\"), col(\"name\"), col(\"addressId\"))\n",
    "\n",
    "# Hiển thị DataFrame mới\n",
    "shop_df.show()\n"
   ]
  },
  {
   "cell_type": "code",
   "execution_count": 7,
   "metadata": {},
   "outputs": [],
   "source": [
    "# Ghi DataFrame vào bảng \"Dim_Shop\" trong schema \"public\"\n",
    "shop_df.write \\\n",
    "    .format(\"jdbc\") \\\n",
    "    .option(\"url\", \"jdbc:postgresql://103.245.236.247:5432/data_warehouse\") \\\n",
    "    .option(\"dbtable\", \"public.\\\"Dim_Shop\\\"\") \\\n",
    "    .option(\"user\", \"traianthai\") \\\n",
    "    .option(\"password\", \"123123\") \\\n",
    "    .mode(\"overwrite\") \\\n",
    "    .save()\n",
    "\n"
   ]
  },
  {
   "cell_type": "code",
   "execution_count": 8,
   "metadata": {},
   "outputs": [],
   "source": [
    "# Đóng SparkSession\n",
    "spark.stop()"
   ]
  }
 ],
 "metadata": {
  "kernelspec": {
   "display_name": "Python 3",
   "language": "python",
   "name": "python3"
  },
  "language_info": {
   "codemirror_mode": {
    "name": "ipython",
    "version": 3
   },
   "file_extension": ".py",
   "mimetype": "text/x-python",
   "name": "python",
   "nbconvert_exporter": "python",
   "pygments_lexer": "ipython3",
   "version": "3.10.5"
  }
 },
 "nbformat": 4,
 "nbformat_minor": 2
}
